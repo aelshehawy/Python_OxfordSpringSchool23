{
  "cells": [
    {
      "cell_type": "markdown",
      "metadata": {
        "id": "view-in-github",
        "colab_type": "text"
      },
      "source": [
        "<a href=\"https://colab.research.google.com/github/aelshehawy/Python_OxfordSpringSchool23/blob/main/Spring_School_2023_Session_1_PythonFullCode.ipynb\" target=\"_parent\"><img src=\"https://colab.research.google.com/assets/colab-badge.svg\" alt=\"Open In Colab\"/></a>"
      ]
    },
    {
      "cell_type": "markdown",
      "metadata": {
        "id": "gdEwECFbHTAI"
      },
      "source": [
        "# **Welcome to Python for Social Data Science 2023**\n",
        "\n",
        "\n"
      ]
    },
    {
      "cell_type": "markdown",
      "source": [
        "# Python Session 1"
      ],
      "metadata": {
        "id": "YdgLOqd_r9hS"
      }
    },
    {
      "cell_type": "code",
      "source": [
        "from IPython.display import Image\n",
        "Image(url='https://media.giphy.com/media/gG9fVWJdN41NeiHhzk/giphy.gif')"
      ],
      "metadata": {
        "id": "p1znA3btkv77",
        "colab": {
          "base_uri": "https://localhost:8080/",
          "height": 162
        },
        "outputId": "02843e67-dc3c-4602-b7c8-106c875365a0"
      },
      "execution_count": null,
      "outputs": [
        {
          "output_type": "execute_result",
          "data": {
            "text/html": [
              "<img src=\"https://media.giphy.com/media/gG9fVWJdN41NeiHhzk/giphy.gif\"/>"
            ],
            "text/plain": [
              "<IPython.core.display.Image object>"
            ]
          },
          "metadata": {},
          "execution_count": 119
        }
      ]
    },
    {
      "cell_type": "markdown",
      "source": [
        "Load this code to be able to access data from your Google Drive, this gives permission to Colab to get files/data. Will be super useful in our next sessions."
      ],
      "metadata": {
        "id": "IoUX28f4sDb3"
      }
    },
    {
      "cell_type": "code",
      "source": [
        "from google.colab import drive\n",
        "drive.mount('/content/drive')"
      ],
      "metadata": {
        "id": "6PNyth1iJQj7",
        "colab": {
          "base_uri": "https://localhost:8080/"
        },
        "outputId": "d8f51241-7a8f-4f11-b4e6-63f2a87e2978"
      },
      "execution_count": null,
      "outputs": [
        {
          "output_type": "stream",
          "name": "stdout",
          "text": [
            "Drive already mounted at /content/drive; to attempt to forcibly remount, call drive.mount(\"/content/drive\", force_remount=True).\n"
          ]
        }
      ]
    },
    {
      "cell_type": "markdown",
      "metadata": {
        "id": "rTzYMYslqrbv"
      },
      "source": [
        "# Github\n",
        "\n",
        "**Why use GitHub?**\n",
        "\n",
        "- Open Source\n",
        "- Have your code reviewed by the community\n",
        "- Give your projects visibility\n",
        "- Collaborate and track changes for your code visibly\n",
        "- Newsfeed with latest updates - You can  see what changes have been made in any other repositories you follow. \n",
        "- Explore repositories -  On the right of your dashboard, you can locate suggested repositories to follow — these suggestions are based on repositories you have followed or starrted."
      ]
    },
    {
      "cell_type": "markdown",
      "metadata": {
        "id": "SBrwX_Cqqrbw"
      },
      "source": [
        "**How do we use Github?**\n",
        "\n",
        "- Fork a rep: Create a new project based on a project that already exists - you can fork our repository to have a copy in your profile that you can edit https://github.com/aelshehawy/PythonSocialDataScience <br>\n",
        "Use fork to work on new features and submit pull requests containing your new changes to the original repository.\n",
        "- Pull Request:  Authors of the original repository can see your work & choose if they want to accept it to the official project.\n",
        "- Star: Bookmark repository\n",
        "- Desktop version is really nice, you can work on your computer, have a local copy of ' repositories, fetch updates from their "
      ]
    },
    {
      "cell_type": "markdown",
      "metadata": {
        "id": "AsNVbtEjqrbw"
      },
      "source": [
        "**Download our data for the class**\n",
        "\n",
        "You can download the whole repository with one click: https://github.com/aelshehawy/PythonSocialDataScience\n",
        "\n",
        "If you wanna download a specific Python sheet or csv file\n",
        "\n",
        "1. First click on Raw\n",
        "2. Then, press ctrl+s to save it as **.ipynb** or **csv**\n",
        "\n",
        "**I recommend using GitHub Desktop:** \n",
        "if you have forked our class's repository, then clone my repository on your computer and keep fetching changes.\n",
        "\n",
        "**Just explore and play with GitHub whe you have time**"
      ]
    },
    {
      "cell_type": "markdown",
      "metadata": {
        "id": "NA5ahqc7HTAP"
      },
      "source": [
        "# Install Jupyter Notebooks on your Local Drive"
      ]
    },
    {
      "cell_type": "markdown",
      "metadata": {
        "id": "QwJ1voyNHTAQ"
      },
      "source": [
        "What is a Jupyter Notebook:\n",
        "\n",
        " \"Jupyter Notebook is an open-source web application that allows you to create and share documents that contain live code, equations, visualizations and narrative text.\"\n",
        "\n",
        "_We will use Anaconda_ https://www.anaconda.com/products/distribution\n"
      ]
    },
    {
      "cell_type": "markdown",
      "metadata": {
        "id": "m90iWfa5HTAQ"
      },
      "source": [
        "in your terminal please enter:\n",
        "\n",
        "``pip install jupyterlab``\n",
        "\n",
        "if that doesnt work try:\n",
        "\n",
        "``conda install -c conda-forge jupyterlab``\n"
      ]
    },
    {
      "cell_type": "markdown",
      "metadata": {
        "id": "DWj_K5852UEV"
      },
      "source": [
        "# Google Colab Sheets\n",
        "\n",
        "- Can be used with browsers like Chrome of Firefox\n",
        "- Saves installation time and effort. Easily use available libraries.\n",
        "- All your notebooks can be saved directly in your Google Drive\n",
        "- Excellent for collaborations!\n",
        "- Check this link for more information https://colab.research.google.com/notebooks/basic_features_overview.ipynb"
      ]
    },
    {
      "cell_type": "markdown",
      "metadata": {
        "id": "O2u-LakX4UaF"
      },
      "source": [
        "### So how does it work?\n",
        "\n",
        "1. To create a new cell you click +\n",
        "2. To run a cell you need to press the play button\n",
        "3. You can create cells where you write text by clicking on the + Text button. Here is a cheat sheet [link](https://github.com/adam-p/markdown-here/wiki/Markdown-Cheatsheet) for markdown, probably you have already used it in R. \n",
        "4. If you need to clear everything that is saved in a python notebook (remove saved variables/data etc.). You can click on Edit and choose **clear all output**\n",
        "6. Save notebooks on your Google Drive - Don't forget!\n",
        "7. Useful Shortcuts under Tools: Example: Control m m will convert a code cell to a text cell. Control m y will convert a text cell to a code cell."
      ]
    },
    {
      "cell_type": "code",
      "source": [
        "1+2"
      ],
      "metadata": {
        "id": "YQlIJwJ9Y8hz",
        "colab": {
          "base_uri": "https://localhost:8080/"
        },
        "outputId": "b4f51437-eb10-4719-ff7e-2a122ea6502d"
      },
      "execution_count": null,
      "outputs": [
        {
          "output_type": "execute_result",
          "data": {
            "text/plain": [
              "3"
            ]
          },
          "metadata": {},
          "execution_count": 122
        }
      ]
    },
    {
      "cell_type": "markdown",
      "metadata": {
        "id": "jjut3fVbHTAW"
      },
      "source": [
        "# What are we learning in this Python session today\n",
        "\n",
        "Mainly: Basic Operations of Python\n",
        "\n",
        "* Python Interactive Shell: Print Function\n",
        "* Assigning Variables and Values\n",
        "* Understanding Different Types of Objects in Python\n",
        "* Mathematical Operations\n",
        "* Boolean Operations \n",
        "\n",
        "Python Objects:\n",
        "\n",
        "* Transformation of Objects\n",
        "* Input function \n",
        "* Understanding Python Strings\n",
        "* Combining Objects\n",
        "* Libraries in Python\n",
        "* Data Structures and Container"
      ]
    },
    {
      "cell_type": "markdown",
      "metadata": {
        "id": "ijW8C9OkHTAX"
      },
      "source": [
        "# Python Interactive Shell"
      ]
    },
    {
      "cell_type": "markdown",
      "metadata": {
        "id": "tJBmww7lHTAX"
      },
      "source": [
        "### The print function\n",
        "Here you can use print() built in function for python to print strings, intergers etc. <br>\n",
        "To print a string you need to wrap it in \" \""
      ]
    },
    {
      "cell_type": "code",
      "execution_count": null,
      "metadata": {
        "id": "_SGIxfc-HTAY",
        "colab": {
          "base_uri": "https://localhost:8080/"
        },
        "outputId": "1634a4a9-236a-40f6-af63-ed596a3760e1"
      },
      "outputs": [
        {
          "output_type": "stream",
          "name": "stdout",
          "text": [
            "Welcome to Text Analysis Class\n"
          ]
        }
      ],
      "source": [
        "print('Welcome to Text Analysis Class') #we use single or double quotation marks"
      ]
    },
    {
      "cell_type": "code",
      "execution_count": null,
      "metadata": {
        "collapsed": true,
        "id": "JvOKK2TLHTAZ",
        "colab": {
          "base_uri": "https://localhost:8080/"
        },
        "outputId": "870fccc4-6689-4fcb-f308-7692211a50c5"
      },
      "outputs": [
        {
          "output_type": "stream",
          "name": "stdout",
          "text": [
            "Welcome\n"
          ]
        }
      ],
      "source": [
        "print(\"Welcome\")"
      ]
    },
    {
      "cell_type": "code",
      "execution_count": null,
      "metadata": {
        "id": "UElzYfKYHTAa",
        "colab": {
          "base_uri": "https://localhost:8080/"
        },
        "outputId": "7cb4269d-f85d-4c28-f105-d7a7aa6dcc40"
      },
      "outputs": [
        {
          "output_type": "stream",
          "name": "stdout",
          "text": [
            "Using this you can print strings\n"
          ]
        }
      ],
      "source": [
        "print(\"Using this you can print strings\")"
      ]
    },
    {
      "cell_type": "code",
      "execution_count": null,
      "metadata": {
        "id": "l7c18P7AHTAa",
        "colab": {
          "base_uri": "https://localhost:8080/"
        },
        "outputId": "e6f429c1-7a50-419b-d9b5-9b9c55eda156"
      },
      "outputs": [
        {
          "output_type": "stream",
          "name": "stdout",
          "text": [
            "5\n"
          ]
        }
      ],
      "source": [
        "print(5)"
      ]
    },
    {
      "cell_type": "code",
      "execution_count": null,
      "metadata": {
        "id": "s5QjFUn5HTAa",
        "colab": {
          "base_uri": "https://localhost:8080/"
        },
        "outputId": "8ec38f7e-e910-4de8-c906-6b59b0051bdf"
      },
      "outputs": [
        {
          "output_type": "stream",
          "name": "stdout",
          "text": [
            "5 you can print also the digit 5 and combine it with a description\n"
          ]
        }
      ],
      "source": [
        "# you can print intergers and strings together like this - seperate with a comma\n",
        "print(5,\"you can print also the digit 5 and combine it with a description\")"
      ]
    },
    {
      "cell_type": "code",
      "execution_count": null,
      "metadata": {
        "collapsed": true,
        "id": "LRu3eA8JHTAb",
        "colab": {
          "base_uri": "https://localhost:8080/"
        },
        "outputId": "b6c57657-5a44-4ae7-e3a1-9958d3aca128"
      },
      "outputs": [
        {
          "output_type": "stream",
          "name": "stdout",
          "text": [
            "35 you can print also the digits 35 and combine them with a description\n"
          ]
        }
      ],
      "source": [
        "# using the hashtag to comment out lines or comment your code\n",
        "print(5*7,\"you can print also the digits 35 and combine them with a description\")\n",
        "\n"
      ]
    },
    {
      "cell_type": "markdown",
      "metadata": {
        "id": "Jyh5v8UmHTAb"
      },
      "source": [
        "### Assign variable values\n",
        "here we save a value inside of a variable - exactly as we do with other statistical programmes like R and Stata"
      ]
    },
    {
      "cell_type": "code",
      "execution_count": null,
      "metadata": {
        "collapsed": true,
        "id": "RLu84-oqHTAc"
      },
      "outputs": [],
      "source": [
        "welcome=\"Welcome to Text Analysis Class\""
      ]
    },
    {
      "cell_type": "markdown",
      "metadata": {
        "id": "G3WHiT6PHTAc"
      },
      "source": [
        "as we saved the string within the variable welcome, we can use python's built in function print() to see what we have saved"
      ]
    },
    {
      "cell_type": "code",
      "execution_count": null,
      "metadata": {
        "id": "CcedsTZNHTAc",
        "colab": {
          "base_uri": "https://localhost:8080/"
        },
        "outputId": "e1491092-72a8-4872-f789-15a14d554b19"
      },
      "outputs": [
        {
          "output_type": "stream",
          "name": "stdout",
          "text": [
            "Welcome to Text Analysis Class\n"
          ]
        }
      ],
      "source": [
        "print(welcome)"
      ]
    },
    {
      "cell_type": "code",
      "execution_count": null,
      "metadata": {
        "id": "tQEsAjtJHTAc",
        "colab": {
          "base_uri": "https://localhost:8080/",
          "height": 35
        },
        "outputId": "e6e368b5-12a4-4732-e1f8-91ab282399a1"
      },
      "outputs": [
        {
          "output_type": "execute_result",
          "data": {
            "text/plain": [
              "'Welcome to Text Analysis Class'"
            ],
            "application/vnd.google.colaboratory.intrinsic+json": {
              "type": "string"
            }
          },
          "metadata": {},
          "execution_count": 131
        }
      ],
      "source": [
        "welcome"
      ]
    },
    {
      "cell_type": "markdown",
      "metadata": {
        "id": "Q-J2V1hkHTAd"
      },
      "source": [
        "Same goes with intergers and calculations"
      ]
    },
    {
      "cell_type": "code",
      "execution_count": null,
      "metadata": {
        "collapsed": true,
        "id": "tWM4LJOmHTAd"
      },
      "outputs": [],
      "source": [
        "calculation =(5*2*2)"
      ]
    },
    {
      "cell_type": "code",
      "execution_count": null,
      "metadata": {
        "id": "2hI2qoRxHTAd",
        "colab": {
          "base_uri": "https://localhost:8080/"
        },
        "outputId": "44b7c21d-d388-4689-acee-8be80d0ee4e3"
      },
      "outputs": [
        {
          "output_type": "stream",
          "name": "stdout",
          "text": [
            "20\n"
          ]
        },
        {
          "output_type": "execute_result",
          "data": {
            "text/plain": [
              "20"
            ]
          },
          "metadata": {},
          "execution_count": 133
        }
      ],
      "source": [
        "print(calculation)\n",
        "calculation #the product of the evaluation"
      ]
    },
    {
      "cell_type": "markdown",
      "metadata": {
        "id": "tWP_pA2sHTAd"
      },
      "source": [
        "**Take care of overwritting**"
      ]
    },
    {
      "cell_type": "code",
      "execution_count": null,
      "metadata": {
        "id": "j2rdss40HTAd",
        "colab": {
          "base_uri": "https://localhost:8080/"
        },
        "outputId": "e1879a64-ac23-4f33-8262-4f23c4bb6fd9"
      },
      "outputs": [
        {
          "output_type": "execute_result",
          "data": {
            "text/plain": [
              "100"
            ]
          },
          "metadata": {},
          "execution_count": 134
        }
      ],
      "source": [
        "calculation=(10*10)\n",
        "calculation"
      ]
    },
    {
      "cell_type": "markdown",
      "metadata": {
        "id": "KX9tpbLRHTAe"
      },
      "source": [
        "using variables that we have already assigned"
      ]
    },
    {
      "cell_type": "code",
      "execution_count": null,
      "metadata": {
        "collapsed": true,
        "id": "XOUgong_HTAe"
      },
      "outputs": [],
      "source": [
        "# To calculate m=x+y\n",
        "x=7\n",
        "y=9"
      ]
    },
    {
      "cell_type": "code",
      "execution_count": null,
      "metadata": {
        "id": "CDkhbvmjHTAe",
        "colab": {
          "base_uri": "https://localhost:8080/"
        },
        "outputId": "727dc63d-4fbd-4ede-f236-aa4357fb4163"
      },
      "outputs": [
        {
          "output_type": "execute_result",
          "data": {
            "text/plain": [
              "7"
            ]
          },
          "metadata": {},
          "execution_count": 136
        }
      ],
      "source": [
        "x"
      ]
    },
    {
      "cell_type": "code",
      "execution_count": null,
      "metadata": {
        "id": "pdjBYYLNHTAe",
        "colab": {
          "base_uri": "https://localhost:8080/"
        },
        "outputId": "6751399d-a629-4a22-b957-ee1d97c6fa10"
      },
      "outputs": [
        {
          "output_type": "execute_result",
          "data": {
            "text/plain": [
              "9"
            ]
          },
          "metadata": {},
          "execution_count": 137
        }
      ],
      "source": [
        "y"
      ]
    },
    {
      "cell_type": "code",
      "execution_count": null,
      "metadata": {
        "id": "_iN-QP4wHTAf",
        "colab": {
          "base_uri": "https://localhost:8080/"
        },
        "outputId": "917c3058-edd5-429b-a6d3-0fa96cc19eec"
      },
      "outputs": [
        {
          "output_type": "execute_result",
          "data": {
            "text/plain": [
              "16"
            ]
          },
          "metadata": {},
          "execution_count": 138
        }
      ],
      "source": [
        "m=(x+y)\n",
        "m"
      ]
    },
    {
      "cell_type": "code",
      "execution_count": null,
      "metadata": {
        "id": "eDZFfRx0HTAf",
        "colab": {
          "base_uri": "https://localhost:8080/",
          "height": 240
        },
        "outputId": "dfdd7390-9d67-4cbb-b7e2-00df5d0ece69"
      },
      "outputs": [
        {
          "output_type": "error",
          "ename": "NameError",
          "evalue": "ignored",
          "traceback": [
            "\u001b[0;31m---------------------------------------------------------------------------\u001b[0m",
            "\u001b[0;31mNameError\u001b[0m                                 Traceback (most recent call last)",
            "\u001b[0;32m<ipython-input-139-3e498d45d120>\u001b[0m in \u001b[0;36m<cell line: 1>\u001b[0;34m()\u001b[0m\n\u001b[0;32m----> 1\u001b[0;31m \u001b[0mz\u001b[0m \u001b[0;31m#z is not defined\u001b[0m\u001b[0;34m\u001b[0m\u001b[0;34m\u001b[0m\u001b[0m\n\u001b[0m\u001b[1;32m      2\u001b[0m \u001b[0mprint\u001b[0m\u001b[0;34m(\u001b[0m\u001b[0mz\u001b[0m\u001b[0;34m)\u001b[0m \u001b[0;31m#still not defined\u001b[0m\u001b[0;34m\u001b[0m\u001b[0;34m\u001b[0m\u001b[0m\n",
            "\u001b[0;31mNameError\u001b[0m: name 'z' is not defined"
          ]
        }
      ],
      "source": [
        "z #z is not defined\n",
        "print(z) #still not defined\n"
      ]
    },
    {
      "cell_type": "code",
      "execution_count": null,
      "metadata": {
        "id": "tfyjLIlPHTAg",
        "colab": {
          "base_uri": "https://localhost:8080/"
        },
        "outputId": "7824dac4-4b52-4c71-d2f8-22907bb8c145"
      },
      "outputs": [
        {
          "output_type": "execute_result",
          "data": {
            "text/plain": [
              "6"
            ]
          },
          "metadata": {},
          "execution_count": 140
        }
      ],
      "source": [
        "A=3\n",
        "r=2\n",
        "multiplication=A*r\n",
        "multiplication"
      ]
    },
    {
      "cell_type": "code",
      "execution_count": null,
      "metadata": {
        "id": "u6QIpFu3HTAg",
        "colab": {
          "base_uri": "https://localhost:8080/"
        },
        "outputId": "a4fb5e6c-eec4-4fe6-c08e-641830772e4c"
      },
      "outputs": [
        {
          "output_type": "execute_result",
          "data": {
            "text/plain": [
              "(100, 'Welcome to Text Analysis Class', 16)"
            ]
          },
          "metadata": {},
          "execution_count": 141
        }
      ],
      "source": [
        "combine = (calculation, welcome, m)\n",
        "combine"
      ]
    },
    {
      "cell_type": "code",
      "execution_count": null,
      "metadata": {
        "id": "c3pe7fQtHTAg",
        "colab": {
          "base_uri": "https://localhost:8080/"
        },
        "outputId": "a75fdd40-afb1-4ced-82fe-af14307b8797"
      },
      "outputs": [
        {
          "output_type": "stream",
          "name": "stdout",
          "text": [
            "7\n"
          ]
        }
      ],
      "source": [
        "x=7\n",
        "x\n",
        "print(x)"
      ]
    },
    {
      "cell_type": "markdown",
      "metadata": {
        "id": "vYenaUAMHTAg"
      },
      "source": [
        "# What type of Object are we using?"
      ]
    },
    {
      "cell_type": "code",
      "execution_count": null,
      "metadata": {
        "id": "AJkSd9rYHTAh",
        "colab": {
          "base_uri": "https://localhost:8080/"
        },
        "outputId": "acf575f8-368e-4a34-f9d7-c4df585ce754"
      },
      "outputs": [
        {
          "output_type": "stream",
          "name": "stdout",
          "text": [
            "yes\n"
          ]
        }
      ],
      "source": [
        "object1=(\"yes\")\n",
        "print(object1)\n"
      ]
    },
    {
      "cell_type": "code",
      "execution_count": null,
      "metadata": {
        "id": "hZhiQVl_HTAh",
        "colab": {
          "base_uri": "https://localhost:8080/"
        },
        "outputId": "4e17b19e-7953-4d03-d2b6-3fe1bba5281b"
      },
      "outputs": [
        {
          "output_type": "stream",
          "name": "stdout",
          "text": [
            "<class 'str'>\n"
          ]
        }
      ],
      "source": [
        "print(type(object1))"
      ]
    },
    {
      "cell_type": "code",
      "execution_count": null,
      "metadata": {
        "id": "lgH0dZveHTAh",
        "colab": {
          "base_uri": "https://localhost:8080/"
        },
        "outputId": "784fab72-1d79-40dd-fed5-5294c649a564"
      },
      "outputs": [
        {
          "output_type": "stream",
          "name": "stdout",
          "text": [
            "<class 'str'>\n"
          ]
        }
      ],
      "source": [
        "print(type(\"apple\")) "
      ]
    },
    {
      "cell_type": "code",
      "execution_count": null,
      "metadata": {
        "id": "V6ngsRRmHTAh",
        "colab": {
          "base_uri": "https://localhost:8080/"
        },
        "outputId": "5fecadcb-e350-4d6f-d637-c9924b23b07a"
      },
      "outputs": [
        {
          "output_type": "stream",
          "name": "stdout",
          "text": [
            "<class 'int'>\n"
          ]
        }
      ],
      "source": [
        "print(type(5*10))"
      ]
    },
    {
      "cell_type": "code",
      "execution_count": null,
      "metadata": {
        "id": "YyJlXJGjHTAh",
        "colab": {
          "base_uri": "https://localhost:8080/"
        },
        "outputId": "fd5453c4-2822-4386-97e7-cfb256e6ce47"
      },
      "outputs": [
        {
          "output_type": "stream",
          "name": "stdout",
          "text": [
            "<class 'float'>\n"
          ]
        }
      ],
      "source": [
        "#float: a number that has both an integer and fractional part, separated by a point.\n",
        "print(type(1.1))"
      ]
    },
    {
      "cell_type": "markdown",
      "metadata": {
        "id": "N3ssE3_1HTAi"
      },
      "source": [
        "# Maths"
      ]
    },
    {
      "cell_type": "code",
      "execution_count": null,
      "metadata": {
        "id": "Qsntt8WEHTAi",
        "colab": {
          "base_uri": "https://localhost:8080/"
        },
        "outputId": "0e3f0b40-2872-428a-9e47-dbee01b08bc1"
      },
      "outputs": [
        {
          "output_type": "execute_result",
          "data": {
            "text/plain": [
              "10"
            ]
          },
          "metadata": {},
          "execution_count": 148
        }
      ],
      "source": [
        "#you can use python to perform mathematical operations\n",
        "5+5"
      ]
    },
    {
      "cell_type": "code",
      "execution_count": null,
      "metadata": {
        "id": "Ae1lvRsDHTAi",
        "colab": {
          "base_uri": "https://localhost:8080/"
        },
        "outputId": "bb91a0fb-af4f-4a40-e85f-22bdf090ff87"
      },
      "outputs": [
        {
          "output_type": "stream",
          "name": "stdout",
          "text": [
            "10\n"
          ]
        }
      ],
      "source": [
        "#you can also use the print function to achieve the same thing\n",
        "print(5+5)"
      ]
    },
    {
      "cell_type": "code",
      "execution_count": null,
      "metadata": {
        "id": "0scgsSAHHTAi",
        "colab": {
          "base_uri": "https://localhost:8080/"
        },
        "outputId": "ccddadf0-7f02-4bf5-fada-cd65aea0dd58"
      },
      "outputs": [
        {
          "output_type": "execute_result",
          "data": {
            "text/plain": [
              "25"
            ]
          },
          "metadata": {},
          "execution_count": 150
        }
      ],
      "source": [
        "#multiplication\n",
        "5*5"
      ]
    },
    {
      "cell_type": "code",
      "execution_count": null,
      "metadata": {
        "id": "GU4nkpS6HTAi",
        "colab": {
          "base_uri": "https://localhost:8080/"
        },
        "outputId": "590f26aa-10e1-4975-be2d-8ae6c561c5f1"
      },
      "outputs": [
        {
          "output_type": "execute_result",
          "data": {
            "text/plain": [
              "3125"
            ]
          },
          "metadata": {},
          "execution_count": 151
        }
      ],
      "source": [
        "#Power\n",
        "5**5"
      ]
    },
    {
      "cell_type": "code",
      "execution_count": null,
      "metadata": {
        "id": "thjEzKk7HTAi",
        "colab": {
          "base_uri": "https://localhost:8080/"
        },
        "outputId": "638070de-3baf-4fa9-88af-7008ffdb094c"
      },
      "outputs": [
        {
          "output_type": "stream",
          "name": "stdout",
          "text": [
            "15\n",
            "3.3333333333333335\n",
            "3\n",
            "4\n",
            "16\n"
          ]
        }
      ],
      "source": [
        "# Multiplication, division interger, division float, remainder, and exponentiation\n",
        "print(3 * 5)\n",
        "print(10 / 3)\n",
        "print(10 // 3)\n",
        "print(18 % 7)\n",
        "print(4 ** 2)"
      ]
    },
    {
      "cell_type": "code",
      "execution_count": null,
      "metadata": {
        "id": "bNP23xGRHTAi",
        "colab": {
          "base_uri": "https://localhost:8080/"
        },
        "outputId": "35c6b4bb-ee30-4b0d-dfa8-5ca79c35e4b7"
      },
      "outputs": [
        {
          "output_type": "stream",
          "name": "stdout",
          "text": [
            "5\n"
          ]
        }
      ],
      "source": [
        "A=11//2 #interger division\n",
        "print(A)"
      ]
    },
    {
      "cell_type": "code",
      "execution_count": null,
      "metadata": {
        "id": "XOWdWcNFHTAj",
        "colab": {
          "base_uri": "https://localhost:8080/"
        },
        "outputId": "11104d20-b59a-45a3-a4aa-f61913a11359"
      },
      "outputs": [
        {
          "output_type": "stream",
          "name": "stdout",
          "text": [
            "5.5\n"
          ]
        }
      ],
      "source": [
        "A=11/2 #float division\n",
        "print(A)"
      ]
    },
    {
      "cell_type": "code",
      "execution_count": null,
      "metadata": {
        "collapsed": true,
        "id": "UBswO4ZPHTAj"
      },
      "outputs": [],
      "source": [
        "#It is important to know that python needs brackets to understand what it should calculate first\n",
        "#Lets experiment"
      ]
    },
    {
      "cell_type": "code",
      "execution_count": null,
      "metadata": {
        "id": "19NZv97xHTAj",
        "colab": {
          "base_uri": "https://localhost:8080/"
        },
        "outputId": "9f161176-e55b-49da-e5e0-a19fdb20fe19"
      },
      "outputs": [
        {
          "output_type": "execute_result",
          "data": {
            "text/plain": [
              "426220800"
            ]
          },
          "metadata": {},
          "execution_count": 156
        }
      ],
      "source": [
        "(1666-20+40)*(800-10)*(300+20)"
      ]
    },
    {
      "cell_type": "code",
      "execution_count": null,
      "metadata": {
        "id": "5kaUVI0qHTAj",
        "colab": {
          "base_uri": "https://localhost:8080/"
        },
        "outputId": "1e49bce6-2025-4add-b922-6b0718c92d8e"
      },
      "outputs": [
        {
          "output_type": "execute_result",
          "data": {
            "text/plain": [
              "30666"
            ]
          },
          "metadata": {},
          "execution_count": 157
        }
      ],
      "source": [
        "(1666-20+40*800-10*300+20)"
      ]
    },
    {
      "cell_type": "markdown",
      "metadata": {
        "id": "tUmb3F_wqrb_"
      },
      "source": [
        "# Boolean operations\n",
        "\n",
        "In programming you often need to know if an expression is True or False.\n",
        "\n",
        "When you compare two values, the expression is evaluated and Python returns the Boolean answer:\n",
        "\n"
      ]
    },
    {
      "cell_type": "code",
      "metadata": {
        "id": "OV7A25d-xs-_",
        "colab": {
          "base_uri": "https://localhost:8080/"
        },
        "outputId": "a6c6ad36-d6fb-4878-a677-85abe7a3ccab"
      },
      "source": [
        "print(type(True))"
      ],
      "execution_count": null,
      "outputs": [
        {
          "output_type": "stream",
          "name": "stdout",
          "text": [
            "<class 'bool'>\n"
          ]
        }
      ]
    },
    {
      "cell_type": "code",
      "metadata": {
        "id": "tywbzI30x0Te",
        "colab": {
          "base_uri": "https://localhost:8080/"
        },
        "outputId": "6bb61e73-32bc-419e-b450-70348161ab95"
      },
      "source": [
        "print(100 < 2)\n",
        "print(3 > 7)\n",
        "\n"
      ],
      "execution_count": null,
      "outputs": [
        {
          "output_type": "stream",
          "name": "stdout",
          "text": [
            "False\n",
            "False\n"
          ]
        }
      ]
    },
    {
      "cell_type": "code",
      "metadata": {
        "id": "Q_4DyFr6Sj3L",
        "colab": {
          "base_uri": "https://localhost:8080/"
        },
        "outputId": "ef72ae78-c69a-4544-f744-0a8ad5dc0a8f"
      },
      "source": [
        "print(2 <= 3)\n",
        "print(2 <= 2)\n",
        "print(3 >= 99)\n",
        "print(55 == 55)\n",
        "\n",
        "\n"
      ],
      "execution_count": null,
      "outputs": [
        {
          "output_type": "stream",
          "name": "stdout",
          "text": [
            "True\n",
            "True\n",
            "False\n",
            "True\n"
          ]
        }
      ]
    },
    {
      "cell_type": "code",
      "metadata": {
        "id": "f60lNmanSkBn",
        "colab": {
          "base_uri": "https://localhost:8080/"
        },
        "outputId": "650d833f-a86a-4678-cfec-e687221f7743"
      },
      "source": [
        "print(\"dpir\" == \"dpir\")\n",
        "print(\"dice\" != \"ice\")"
      ],
      "execution_count": null,
      "outputs": [
        {
          "output_type": "stream",
          "name": "stdout",
          "text": [
            "True\n",
            "True\n"
          ]
        }
      ]
    },
    {
      "cell_type": "code",
      "source": [
        "a=2\n",
        "b=2.5"
      ],
      "metadata": {
        "id": "VijutBpeGq9b"
      },
      "execution_count": null,
      "outputs": []
    },
    {
      "cell_type": "code",
      "metadata": {
        "id": "4OVW8jHyqrb_",
        "colab": {
          "base_uri": "https://localhost:8080/"
        },
        "outputId": "ff30645a-0ab2-4277-c290-6759f6b2e9d7"
      },
      "source": [
        "a == b #these objects are equal to each other?"
      ],
      "execution_count": null,
      "outputs": [
        {
          "output_type": "execute_result",
          "data": {
            "text/plain": [
              "False"
            ]
          },
          "metadata": {},
          "execution_count": 163
        }
      ]
    },
    {
      "cell_type": "code",
      "metadata": {
        "id": "4_sU1mB3qrcA",
        "colab": {
          "base_uri": "https://localhost:8080/"
        },
        "outputId": "76da5e64-d8fb-4944-90c1-4504eb5d84d4"
      },
      "source": [
        "a!=b #these objects are not equal to each other?"
      ],
      "execution_count": null,
      "outputs": [
        {
          "output_type": "execute_result",
          "data": {
            "text/plain": [
              "True"
            ]
          },
          "metadata": {},
          "execution_count": 164
        }
      ]
    },
    {
      "cell_type": "markdown",
      "metadata": {
        "id": "yk6b24y-HTAk"
      },
      "source": [
        "# Transform Objects"
      ]
    },
    {
      "cell_type": "code",
      "execution_count": null,
      "metadata": {
        "id": "EPXPCQQkHTAl",
        "colab": {
          "base_uri": "https://localhost:8080/"
        },
        "outputId": "bdaaba0b-6f3e-4d3f-d726-af40f3b576da"
      },
      "outputs": [
        {
          "output_type": "execute_result",
          "data": {
            "text/plain": [
              "100"
            ]
          },
          "metadata": {},
          "execution_count": 165
        }
      ],
      "source": [
        "number1= 100\n",
        "number2= 2.3\n",
        "\n",
        "number1"
      ]
    },
    {
      "cell_type": "code",
      "execution_count": null,
      "metadata": {
        "id": "OFbEjEGvHTAl",
        "colab": {
          "base_uri": "https://localhost:8080/",
          "height": 35
        },
        "outputId": "775fa754-916f-4e5e-92b5-a96a66df27c0"
      },
      "outputs": [
        {
          "output_type": "execute_result",
          "data": {
            "text/plain": [
              "'100'"
            ],
            "application/vnd.google.colaboratory.intrinsic+json": {
              "type": "string"
            }
          },
          "metadata": {},
          "execution_count": 166
        }
      ],
      "source": [
        "#transform to string\n",
        "numberx=str(number1)\n",
        "numberx"
      ]
    },
    {
      "cell_type": "code",
      "execution_count": null,
      "metadata": {
        "id": "3e13fkGFHTAl",
        "colab": {
          "base_uri": "https://localhost:8080/"
        },
        "outputId": "b4125edd-c58f-4f37-e88b-fce8d2459de6"
      },
      "outputs": [
        {
          "output_type": "execute_result",
          "data": {
            "text/plain": [
              "2"
            ]
          },
          "metadata": {},
          "execution_count": 167
        }
      ],
      "source": [
        "#transform to interger\n",
        "int(number2)"
      ]
    },
    {
      "cell_type": "markdown",
      "metadata": {
        "id": "wjfXpWIiHTAl"
      },
      "source": [
        "# Input from keyboard"
      ]
    },
    {
      "cell_type": "code",
      "execution_count": null,
      "metadata": {
        "id": "kzGYT9VsHTAl",
        "colab": {
          "base_uri": "https://localhost:8080/"
        },
        "outputId": "1d52e307-c977-4425-c8c2-116bf22ab74d"
      },
      "outputs": [
        {
          "name": "stdout",
          "output_type": "stream",
          "text": [
            "Why are you here?\n",
            "\tlearn\n"
          ]
        }
      ],
      "source": [
        "answer_this_question = input (\"Why are you here?\\n\\t\")"
      ]
    },
    {
      "cell_type": "code",
      "execution_count": null,
      "metadata": {
        "id": "y11uVUD7HTAm",
        "colab": {
          "base_uri": "https://localhost:8080/",
          "height": 35
        },
        "outputId": "2965b114-4581-4cfb-f1e1-8ac37abb6082"
      },
      "outputs": [
        {
          "output_type": "execute_result",
          "data": {
            "text/plain": [
              "'learn'"
            ],
            "application/vnd.google.colaboratory.intrinsic+json": {
              "type": "string"
            }
          },
          "metadata": {},
          "execution_count": 169
        }
      ],
      "source": [
        "answer_this_question"
      ]
    },
    {
      "cell_type": "code",
      "source": [
        "print(type(answer_this_question))"
      ],
      "metadata": {
        "colab": {
          "base_uri": "https://localhost:8080/"
        },
        "id": "lsnUCCSQhcnE",
        "outputId": "8cbc3242-aac1-4ea0-f5dd-0839e65e8d2a"
      },
      "execution_count": null,
      "outputs": [
        {
          "output_type": "stream",
          "name": "stdout",
          "text": [
            "<class 'str'>\n"
          ]
        }
      ]
    },
    {
      "cell_type": "code",
      "source": [
        "#################################################################################"
      ],
      "metadata": {
        "id": "aFQ5Bk11_IsP"
      },
      "execution_count": null,
      "outputs": []
    },
    {
      "cell_type": "markdown",
      "metadata": {
        "id": "jBPWWqmFbopc"
      },
      "source": [
        "# Combining objects\n"
      ]
    },
    {
      "cell_type": "code",
      "execution_count": null,
      "metadata": {
        "id": "8Xugwb6Abopd",
        "colab": {
          "base_uri": "https://localhost:8080/",
          "height": 35
        },
        "outputId": "80902593-cc4b-49f3-d743-069bf1b04464"
      },
      "outputs": [
        {
          "output_type": "execute_result",
          "data": {
            "text/plain": [
              "\"we are learning python'\""
            ],
            "application/vnd.google.colaboratory.intrinsic+json": {
              "type": "string"
            }
          },
          "metadata": {},
          "execution_count": 172
        }
      ],
      "source": [
        "#combine strings\n",
        "text = \"we\"+ \" \"+ \"are \"+\"learning \" + \"python'\"\n",
        "\n",
        "text"
      ]
    },
    {
      "cell_type": "code",
      "execution_count": null,
      "metadata": {
        "id": "wg9pxm7Ybopg",
        "colab": {
          "base_uri": "https://localhost:8080/"
        },
        "outputId": "5ebf61ee-1c98-4b06-804c-5f269a1e943d"
      },
      "outputs": [
        {
          "output_type": "stream",
          "name": "stdout",
          "text": [
            "2 3\n",
            "<class 'str'>\n"
          ]
        }
      ],
      "source": [
        "intergers=\"2\"+\" \"+\"3\"\n",
        "print(intergers)\n",
        "print(type(intergers))"
      ]
    },
    {
      "cell_type": "code",
      "execution_count": null,
      "metadata": {
        "id": "EdeD8b3abopl",
        "colab": {
          "base_uri": "https://localhost:8080/"
        },
        "outputId": "f7c6ef6b-4e74-4da6-8173-47f604dda628"
      },
      "outputs": [
        {
          "output_type": "stream",
          "name": "stdout",
          "text": [
            "<class 'int'>\n"
          ]
        },
        {
          "output_type": "execute_result",
          "data": {
            "text/plain": [
              "5"
            ]
          },
          "metadata": {},
          "execution_count": 174
        }
      ],
      "source": [
        "intergers=2+3\n",
        "intergers\n",
        "# see the difference between this and the cell above?\n",
        "print(type(intergers))\n",
        "intergers"
      ]
    },
    {
      "cell_type": "code",
      "execution_count": null,
      "metadata": {
        "id": "GW7VtlSTbopn",
        "colab": {
          "base_uri": "https://localhost:8080/"
        },
        "outputId": "b9356c05-76b5-4108-b8e0-e6ad28d2e91a"
      },
      "outputs": [
        {
          "output_type": "stream",
          "name": "stdout",
          "text": [
            "555\n"
          ]
        }
      ],
      "source": [
        "#conversions - we talked about transforming types of objects last week\n",
        "#we can save an item as string here s1=\"5\"\n",
        "s1=\"5\"\n",
        "x= s1 *3 #we transform first s1 as interger and then we multiply it by 3\n",
        "print (x) # 5*3=15"
      ]
    },
    {
      "cell_type": "code",
      "execution_count": null,
      "metadata": {
        "id": "4A9j-KvEbopp",
        "colab": {
          "base_uri": "https://localhost:8080/"
        },
        "outputId": "a2e61c45-0b91-470b-91df-c6e3fb1bd0c3"
      },
      "outputs": [
        {
          "output_type": "execute_result",
          "data": {
            "text/plain": [
              "False"
            ]
          },
          "metadata": {},
          "execution_count": 176
        }
      ],
      "source": [
        "\"a\"==\"A\""
      ]
    },
    {
      "cell_type": "code",
      "source": [],
      "metadata": {
        "id": "sbul4BByb5OR"
      },
      "execution_count": null,
      "outputs": []
    },
    {
      "cell_type": "markdown",
      "metadata": {
        "id": "g8Qcp-Ebbopr"
      },
      "source": [
        "# Understanding Python Strings"
      ]
    },
    {
      "cell_type": "markdown",
      "metadata": {
        "id": "vtl5qXiKbops"
      },
      "source": [
        "Inputting a string"
      ]
    },
    {
      "cell_type": "code",
      "execution_count": null,
      "metadata": {
        "id": "OeuhmDeZbopt",
        "colab": {
          "base_uri": "https://localhost:8080/"
        },
        "outputId": "ec210a12-6861-4a79-df0d-c4babcb61c03"
      },
      "outputs": [
        {
          "output_type": "stream",
          "name": "stdout",
          "text": [
            "Hi this is session one\n"
          ]
        }
      ],
      "source": [
        "#it doesnt matter whether you use single or double quoted strings to save a string object\n",
        "string1 = \"Hi this is session one\"\n",
        "string2 = 'And I am loving python'\n",
        "print (string1)\n",
        "\n"
      ]
    },
    {
      "cell_type": "code",
      "execution_count": null,
      "metadata": {
        "id": "kxzejveYbopu",
        "colab": {
          "base_uri": "https://localhost:8080/"
        },
        "outputId": "2c85bf7d-6665-4990-fb8c-d94175735fc7"
      },
      "outputs": [
        {
          "output_type": "stream",
          "name": "stdout",
          "text": [
            "Hi this is session one\n"
          ]
        }
      ],
      "source": [
        "print(string1)"
      ]
    },
    {
      "cell_type": "code",
      "execution_count": null,
      "metadata": {
        "id": "ofJFIPxzbopv",
        "colab": {
          "base_uri": "https://localhost:8080/"
        },
        "outputId": "324e89f5-0eeb-44ac-bae1-10c7cd849f9a"
      },
      "outputs": [
        {
          "output_type": "stream",
          "name": "stdout",
          "text": [
            "And I am loving python\n"
          ]
        }
      ],
      "source": [
        "print(string2)"
      ]
    },
    {
      "cell_type": "markdown",
      "metadata": {
        "id": "CwtQvfv0bopw"
      },
      "source": [
        "what if we wanna make sure if there is a specific word in the saved string?\n"
      ]
    },
    {
      "cell_type": "code",
      "execution_count": null,
      "metadata": {
        "id": "-0ZUmHahbopx",
        "colab": {
          "base_uri": "https://localhost:8080/"
        },
        "outputId": "30959063-16f7-4aaa-8779-27a786969018"
      },
      "outputs": [
        {
          "output_type": "execute_result",
          "data": {
            "text/plain": [
              "False"
            ]
          },
          "metadata": {},
          "execution_count": 180
        }
      ],
      "source": [
        "\"is\" in string2"
      ]
    },
    {
      "cell_type": "code",
      "execution_count": null,
      "metadata": {
        "id": "WT5UZtMebopx",
        "colab": {
          "base_uri": "https://localhost:8080/"
        },
        "outputId": "86d0674e-a2a4-4029-a6f6-1e0b0792498a"
      },
      "outputs": [
        {
          "output_type": "execute_result",
          "data": {
            "text/plain": [
              "True"
            ]
          },
          "metadata": {},
          "execution_count": 181
        }
      ],
      "source": [
        "\"am\" in string2"
      ]
    },
    {
      "cell_type": "markdown",
      "metadata": {
        "id": "NC9wuKOQbop0"
      },
      "source": [
        "# Manipulate string"
      ]
    },
    {
      "cell_type": "code",
      "execution_count": null,
      "metadata": {
        "collapsed": true,
        "id": "y-RFalhFbop1"
      },
      "outputs": [],
      "source": [
        "myname=\"my is ashrakat\""
      ]
    },
    {
      "cell_type": "code",
      "execution_count": null,
      "metadata": {
        "id": "KY5cxCC3bop2",
        "colab": {
          "base_uri": "https://localhost:8080/"
        },
        "outputId": "053cc1c1-8e19-4173-8d02-a7857847b217"
      },
      "outputs": [
        {
          "output_type": "stream",
          "name": "stdout",
          "text": [
            "My Is Ashrakat\n"
          ]
        }
      ],
      "source": [
        "#if I want to make letter uppercase\n",
        "print(myname.title())"
      ]
    },
    {
      "cell_type": "code",
      "source": [
        "print (myname.lower())"
      ],
      "metadata": {
        "colab": {
          "base_uri": "https://localhost:8080/"
        },
        "id": "WNQjiQoJr82s",
        "outputId": "31ce8368-63cc-4c6f-e9da-e58e4286f42d"
      },
      "execution_count": null,
      "outputs": [
        {
          "output_type": "stream",
          "name": "stdout",
          "text": [
            "my is ashrakat\n"
          ]
        }
      ]
    },
    {
      "cell_type": "code",
      "execution_count": null,
      "metadata": {
        "id": "e_bj20vtbop3",
        "colab": {
          "base_uri": "https://localhost:8080/"
        },
        "outputId": "415ffebc-8a23-4542-d79f-7b540841cdd6"
      },
      "outputs": [
        {
          "output_type": "stream",
          "name": "stdout",
          "text": [
            "MY IS ASHRAKAT\n"
          ]
        }
      ],
      "source": [
        "#if I want to make the whole string uppercase\n",
        "print (myname.upper())"
      ]
    },
    {
      "cell_type": "markdown",
      "metadata": {
        "id": "r7TVKxbYbop4"
      },
      "source": [
        "#### Strip space"
      ]
    },
    {
      "cell_type": "code",
      "execution_count": null,
      "metadata": {
        "collapsed": true,
        "id": "pWnN6cAnbop5",
        "colab": {
          "base_uri": "https://localhost:8080/"
        },
        "outputId": "696b9cab-e4ab-43a0-dfb6-21e0e5a6f100"
      },
      "outputs": [
        {
          "output_type": "stream",
          "name": "stdout",
          "text": [
            " University of Oxford \n"
          ]
        }
      ],
      "source": [
        "university=\" University of Oxford \"\n",
        "print(university)"
      ]
    },
    {
      "cell_type": "code",
      "execution_count": null,
      "metadata": {
        "id": "cxOAZ-w2bop6",
        "colab": {
          "base_uri": "https://localhost:8080/"
        },
        "outputId": "ed9d5b7f-7ecb-4ae5-9160-e9576f4dd039"
      },
      "outputs": [
        {
          "output_type": "stream",
          "name": "stdout",
          "text": [
            "University of Oxford\n"
          ]
        }
      ],
      "source": [
        "#remove all leading and ending spaces\n",
        "university1=university.strip()\n",
        "print(university1)"
      ]
    },
    {
      "cell_type": "code",
      "execution_count": null,
      "metadata": {
        "id": "FKa-F5JYbop6",
        "colab": {
          "base_uri": "https://localhost:8080/",
          "height": 35
        },
        "outputId": "d4b6decc-2deb-41c9-aa88-27fc8368fa00"
      },
      "outputs": [
        {
          "output_type": "execute_result",
          "data": {
            "text/plain": [
              "'UniversityofOxford'"
            ],
            "application/vnd.google.colaboratory.intrinsic+json": {
              "type": "string"
            }
          },
          "metadata": {},
          "execution_count": 188
        }
      ],
      "source": [
        "#remove all space characters in sentence\n",
        "university.replace(\" \", \"\")\n"
      ]
    },
    {
      "cell_type": "code",
      "source": [
        "#we can replace letters as well\n",
        "university2=university.replace(\"U\", \"z\")\n",
        "university2"
      ],
      "metadata": {
        "id": "0PtJ1Rl2pxYl",
        "colab": {
          "base_uri": "https://localhost:8080/",
          "height": 35
        },
        "outputId": "5eb00dd9-057a-4798-9380-5a2f8e0741dc"
      },
      "execution_count": null,
      "outputs": [
        {
          "output_type": "execute_result",
          "data": {
            "text/plain": [
              "' zniversity of Oxford '"
            ],
            "application/vnd.google.colaboratory.intrinsic+json": {
              "type": "string"
            }
          },
          "metadata": {},
          "execution_count": 189
        }
      ]
    },
    {
      "cell_type": "markdown",
      "metadata": {
        "id": "xz03j3vJbop7"
      },
      "source": [
        "#### Count number of words and letters"
      ]
    },
    {
      "cell_type": "code",
      "execution_count": null,
      "metadata": {
        "id": "Tweo7Tkabop7",
        "colab": {
          "base_uri": "https://localhost:8080/"
        },
        "outputId": "cb09b249-fada-44a5-e895-3379ccaed9c3"
      },
      "outputs": [
        {
          "output_type": "execute_result",
          "data": {
            "text/plain": [
              "26"
            ]
          },
          "metadata": {},
          "execution_count": 190
        }
      ],
      "source": [
        "#count number of charachters incluing white space\n",
        "university=\"University of Oxford in Oxford\"\n",
        "#university=university.replace(\" \", \"\") if we use this we remove the while space and the count without replace\n",
        "len(university.replace(\" \",\"\"))"
      ]
    },
    {
      "cell_type": "code",
      "execution_count": null,
      "metadata": {
        "id": "SrWIkF6ibop9",
        "colab": {
          "base_uri": "https://localhost:8080/"
        },
        "outputId": "99813024-2e40-460f-d71d-5fe21fa8380c"
      },
      "outputs": [
        {
          "output_type": "execute_result",
          "data": {
            "text/plain": [
              "5"
            ]
          },
          "metadata": {},
          "execution_count": 191
        }
      ],
      "source": [
        "#count number of words - splitting on white space\n",
        "len(university.split())\n"
      ]
    },
    {
      "cell_type": "code",
      "execution_count": null,
      "metadata": {
        "collapsed": true,
        "id": "RsdoUm61bop9",
        "colab": {
          "base_uri": "https://localhost:8080/"
        },
        "outputId": "80749233-0d82-4fbe-e83a-4afa26cc8dab"
      },
      "outputs": [
        {
          "output_type": "execute_result",
          "data": {
            "text/plain": [
              "['University', 'of', 'Oxford', 'in', 'Oxford']"
            ]
          },
          "metadata": {},
          "execution_count": 192
        }
      ],
      "source": [
        "uni=university.split()# split function splits by white-space\n",
        "uni"
      ]
    },
    {
      "cell_type": "code",
      "execution_count": null,
      "metadata": {
        "id": "m8wYO6Vcbop-",
        "colab": {
          "base_uri": "https://localhost:8080/"
        },
        "outputId": "7e737563-c19e-49db-80f8-44a6e00e1a5b"
      },
      "outputs": [
        {
          "output_type": "stream",
          "name": "stdout",
          "text": [
            "4\n",
            "1\n"
          ]
        }
      ],
      "source": [
        "#count number of occurence of letter\n",
        "print(university.count(' '))\n",
        "print(university.count('U'))"
      ]
    },
    {
      "cell_type": "markdown",
      "metadata": {
        "id": "3-bIGrB4bop-"
      },
      "source": [
        "# Libraries in Python"
      ]
    },
    {
      "cell_type": "markdown",
      "metadata": {
        "id": "pUqi5F_nbop_"
      },
      "source": [
        "Usually you enter in terminal ``pip install [project name]``, best is to check source documentation of project. <br\\>\n",
        "Example: https://pypi.org/project/Counter/"
      ]
    },
    {
      "cell_type": "code",
      "execution_count": null,
      "metadata": {
        "id": "_ZfnQfeMbop_",
        "colab": {
          "base_uri": "https://localhost:8080/"
        },
        "outputId": "f43cb318-2b3e-46e5-c6d8-f7c7812f7074"
      },
      "outputs": [
        {
          "output_type": "execute_result",
          "data": {
            "text/plain": [
              "Counter({'U': 1,\n",
              "         'n': 1,\n",
              "         'i': 2,\n",
              "         'v': 1,\n",
              "         'e': 1,\n",
              "         'r': 2,\n",
              "         's': 1,\n",
              "         't': 1,\n",
              "         'y': 1,\n",
              "         ' ': 2,\n",
              "         'o': 2,\n",
              "         'f': 2,\n",
              "         'O': 1,\n",
              "         'x': 1,\n",
              "         'd': 1})"
            ]
          },
          "metadata": {},
          "execution_count": 194
        }
      ],
      "source": [
        "# you need a library to count faster, this is a very powerful library that we wil use in the future\n",
        "from collections import Counter\n",
        "uni=\"University of Oxford\"\n",
        "Counter(uni) # here we count how much each letter appears, counter can do much more"
      ]
    },
    {
      "cell_type": "code",
      "source": [
        "Counter(uni.split())\n"
      ],
      "metadata": {
        "id": "2OQF_XwVeChz",
        "colab": {
          "base_uri": "https://localhost:8080/"
        },
        "outputId": "32ec1dd2-0c33-41dc-e4d9-2496420a71c5"
      },
      "execution_count": null,
      "outputs": [
        {
          "output_type": "execute_result",
          "data": {
            "text/plain": [
              "Counter({'University': 1, 'of': 1, 'Oxford': 1})"
            ]
          },
          "metadata": {},
          "execution_count": 195
        }
      ]
    },
    {
      "cell_type": "markdown",
      "metadata": {
        "id": "2gDFH22lbop_"
      },
      "source": [
        "# Data Structures in Python"
      ]
    },
    {
      "cell_type": "markdown",
      "metadata": {
        "id": "qmTCjAnKboqA"
      },
      "source": [
        "### Lists\n",
        "\n",
        "ordered, changable, allows duplicated items"
      ]
    },
    {
      "cell_type": "markdown",
      "source": [
        "create empty list"
      ],
      "metadata": {
        "id": "EViiGhy1EX9p"
      }
    },
    {
      "cell_type": "code",
      "source": [
        "# Create an empty list to hold our users.\n",
        "usernames = []\n",
        "print(usernames)\n"
      ],
      "metadata": {
        "colab": {
          "base_uri": "https://localhost:8080/"
        },
        "id": "yG1Ug2vtEaKl",
        "outputId": "055806ea-6816-465a-9ba9-e00ca13d94cf"
      },
      "execution_count": null,
      "outputs": [
        {
          "output_type": "stream",
          "name": "stdout",
          "text": [
            "[]\n"
          ]
        }
      ]
    },
    {
      "cell_type": "code",
      "source": [
        "# Add some users.\n",
        "usernames.append('user1')\n",
        "usernames.append('user2')\n",
        "usernames.append('user3')\n",
        "usernames.append(int(\"3\"))\n",
        "print(usernames)"
      ],
      "metadata": {
        "colab": {
          "base_uri": "https://localhost:8080/"
        },
        "id": "W91FHSbREjJx",
        "outputId": "e5b80b8a-eca2-4b5e-ccb1-5482ac515c20"
      },
      "execution_count": null,
      "outputs": [
        {
          "output_type": "stream",
          "name": "stdout",
          "text": [
            "['user1', 'user2', 'user3', 3]\n"
          ]
        }
      ]
    },
    {
      "cell_type": "markdown",
      "source": [
        "creating lists and checking length"
      ],
      "metadata": {
        "id": "8a1WJ7nHEmsT"
      }
    },
    {
      "cell_type": "code",
      "execution_count": null,
      "metadata": {
        "id": "cYp0T1c7boqA",
        "colab": {
          "base_uri": "https://localhost:8080/"
        },
        "outputId": "b89b13fa-0021-4156-a196-e1cef269b8cb"
      },
      "outputs": [
        {
          "output_type": "stream",
          "name": "stdout",
          "text": [
            "['baking', 'zoom', 'productiveness', 'instagram', 'netflix', 'social distancing']\n"
          ]
        }
      ],
      "source": [
        "quarantine =['baking','zoom',\"productiveness\",\"instagram\",\"netflix\",\"social distancing\"]\n",
        "print(quarantine)\n"
      ]
    },
    {
      "cell_type": "code",
      "execution_count": null,
      "metadata": {
        "id": "g9W6dEfIboqA",
        "colab": {
          "base_uri": "https://localhost:8080/"
        },
        "outputId": "5d7365dd-a580-4529-8373-a33410f94b59"
      },
      "outputs": [
        {
          "output_type": "stream",
          "name": "stdout",
          "text": [
            "[2, 5, 6, 2, 3, 4]\n"
          ]
        }
      ],
      "source": [
        "random=[2,5,6,2,3,4]\n",
        "print(random)"
      ]
    },
    {
      "cell_type": "code",
      "execution_count": null,
      "metadata": {
        "id": "NUYP6t93boqB",
        "colab": {
          "base_uri": "https://localhost:8080/"
        },
        "outputId": "bde7e270-5939-4f0c-fc6c-662ca35ad9f5"
      },
      "outputs": [
        {
          "output_type": "stream",
          "name": "stdout",
          "text": [
            "6\n",
            "6\n"
          ]
        }
      ],
      "source": [
        "print(len(quarantine)) # we see we have 6 items in our list\n",
        "print(len(random))"
      ]
    },
    {
      "cell_type": "markdown",
      "source": [
        "insert list item"
      ],
      "metadata": {
        "id": "tur4fUMVExuJ"
      }
    },
    {
      "cell_type": "code",
      "source": [
        "quarantine =['baking','zoom',\"productiveness\",\"instagram\",\"netflix\",\"social distancing\"]\n",
        "quarantine.insert(1,\"masking\")\n",
        "print(quarantine)"
      ],
      "metadata": {
        "colab": {
          "base_uri": "https://localhost:8080/"
        },
        "id": "swQOXOSDEyFw",
        "outputId": "4f1e803b-44dd-4256-eb89-7a9ab6d8a928"
      },
      "execution_count": null,
      "outputs": [
        {
          "output_type": "stream",
          "name": "stdout",
          "text": [
            "['baking', 'masking', 'zoom', 'productiveness', 'instagram', 'netflix', 'social distancing']\n"
          ]
        }
      ]
    },
    {
      "cell_type": "markdown",
      "source": [
        "modifying list elements"
      ],
      "metadata": {
        "id": "5cFfqtRnFR42"
      }
    },
    {
      "cell_type": "code",
      "source": [
        "\n",
        "quarantine[0] = 'lockdown'\n",
        "print(quarantine)"
      ],
      "metadata": {
        "colab": {
          "base_uri": "https://localhost:8080/"
        },
        "id": "NPqVk_cTFSgo",
        "outputId": "ed7281d9-1065-469b-e235-cb23666b2728"
      },
      "execution_count": null,
      "outputs": [
        {
          "output_type": "stream",
          "name": "stdout",
          "text": [
            "['lockdown', 'masking', 'zoom', 'productiveness', 'instagram', 'netflix', 'social distancing']\n"
          ]
        }
      ]
    },
    {
      "cell_type": "code",
      "source": [
        "quarantine.insert(0,\"backing\")\n",
        "print(quarantine)"
      ],
      "metadata": {
        "colab": {
          "base_uri": "https://localhost:8080/"
        },
        "id": "Zfe2gxW7yFYN",
        "outputId": "24d4c3a4-e6fe-4fcb-e94f-8c04718f205e"
      },
      "execution_count": null,
      "outputs": [
        {
          "output_type": "stream",
          "name": "stdout",
          "text": [
            "['backing', 'lockdown', 'masking', 'zoom', 'productiveness', 'instagram', 'netflix', 'social distancing']\n"
          ]
        }
      ]
    },
    {
      "cell_type": "markdown",
      "metadata": {
        "id": "Svth87UCboqB"
      },
      "source": [
        "**VERY IMPORTANT** In Python counting of items/observations always starts with 0"
      ]
    },
    {
      "cell_type": "markdown",
      "source": [
        "access list items"
      ],
      "metadata": {
        "id": "w-SHhhl8E_z4"
      }
    },
    {
      "cell_type": "code",
      "source": [
        "quarantine"
      ],
      "metadata": {
        "colab": {
          "base_uri": "https://localhost:8080/"
        },
        "id": "911sPm_dySvB",
        "outputId": "449e23da-c3ff-469b-b77b-923855a7b739"
      },
      "execution_count": null,
      "outputs": [
        {
          "output_type": "execute_result",
          "data": {
            "text/plain": [
              "['backing',\n",
              " 'lockdown',\n",
              " 'masking',\n",
              " 'zoom',\n",
              " 'productiveness',\n",
              " 'instagram',\n",
              " 'netflix',\n",
              " 'social distancing']"
            ]
          },
          "metadata": {},
          "execution_count": 204
        }
      ]
    },
    {
      "cell_type": "code",
      "execution_count": null,
      "metadata": {
        "id": "CioSMBnUboqC",
        "colab": {
          "base_uri": "https://localhost:8080/"
        },
        "outputId": "a860623c-b7e2-4e98-ce9a-6514246cf955"
      },
      "outputs": [
        {
          "output_type": "stream",
          "name": "stdout",
          "text": [
            "instagram\n"
          ]
        }
      ],
      "source": [
        "item5=quarantine[5]\n",
        "print(item5)"
      ]
    },
    {
      "cell_type": "code",
      "execution_count": null,
      "metadata": {
        "id": "lbx37rLDboqC",
        "colab": {
          "base_uri": "https://localhost:8080/",
          "height": 35
        },
        "outputId": "932c6a1d-29cd-43df-cad0-9f2a98709d3a"
      },
      "outputs": [
        {
          "output_type": "execute_result",
          "data": {
            "text/plain": [
              "'backing'"
            ],
            "application/vnd.google.colaboratory.intrinsic+json": {
              "type": "string"
            }
          },
          "metadata": {},
          "execution_count": 206
        }
      ],
      "source": [
        "#select items\n",
        "quarantine_food_edition=quarantine[0] #acess item 1\n",
        "quarantine_food_edition"
      ]
    },
    {
      "cell_type": "code",
      "execution_count": null,
      "metadata": {
        "id": "H7hG9IgxboqE",
        "colab": {
          "base_uri": "https://localhost:8080/"
        },
        "outputId": "2b12af28-e90b-4efd-e9c3-1ea31175075e"
      },
      "outputs": [
        {
          "output_type": "execute_result",
          "data": {
            "text/plain": [
              "['backing', 'lockdown']"
            ]
          },
          "metadata": {},
          "execution_count": 207
        }
      ],
      "source": [
        "#select range, slice slice\n",
        "quarantine_fun_edition=quarantine[:2]\n",
        "quarantine_fun_edition"
      ]
    },
    {
      "cell_type": "code",
      "source": [
        "#accessing last item\n",
        "print(quarantine)\n",
        "quarantine2 = quarantine[-1]\n",
        "print(quarantine2)\n",
        "print(quarantine2.title()) #upper case first letter of each word\n"
      ],
      "metadata": {
        "colab": {
          "base_uri": "https://localhost:8080/"
        },
        "id": "uFfpOI57FhYG",
        "outputId": "a0de8654-8608-4526-d627-b56fa5c12582"
      },
      "execution_count": null,
      "outputs": [
        {
          "output_type": "stream",
          "name": "stdout",
          "text": [
            "['backing', 'lockdown', 'masking', 'zoom', 'productiveness', 'instagram', 'netflix', 'social distancing']\n",
            "social distancing\n",
            "Social Distancing\n"
          ]
        }
      ]
    },
    {
      "cell_type": "markdown",
      "source": [
        "sort numerical list"
      ],
      "metadata": {
        "id": "bfHj1fy9EHRz"
      }
    },
    {
      "cell_type": "code",
      "source": [
        "numbers = [1, 3, 4, 2]\n",
        "\n",
        "# sort() puts numbers in increasing order.\n",
        "numbers.sort()\n",
        "print(numbers)"
      ],
      "metadata": {
        "colab": {
          "base_uri": "https://localhost:8080/"
        },
        "id": "XWK0XYY4EGdK",
        "outputId": "eab0d44e-15ba-4d8a-a13a-275415f7e1a6"
      },
      "execution_count": null,
      "outputs": [
        {
          "output_type": "stream",
          "name": "stdout",
          "text": [
            "[1, 2, 3, 4]\n"
          ]
        }
      ]
    },
    {
      "cell_type": "code",
      "source": [
        "numbers = [1, 3, 4, 2]\n",
        "\n",
        "# The reverse() function also works for numerical lists.\n",
        "numbers.reverse()\n",
        "print(numbers)"
      ],
      "metadata": {
        "colab": {
          "base_uri": "https://localhost:8080/"
        },
        "id": "aXSFGabeELkU",
        "outputId": "db81086d-fac8-49a8-f59b-bf8483744a41"
      },
      "execution_count": null,
      "outputs": [
        {
          "output_type": "stream",
          "name": "stdout",
          "text": [
            "[2, 4, 3, 1]\n"
          ]
        }
      ]
    },
    {
      "cell_type": "markdown",
      "source": [
        "removing items by value\n",
        "\n",
        "Be careful: only the first item with this value is removed. If you have multiple items with the same value, you will have some items with this value left in your list.\n",
        "\n"
      ],
      "metadata": {
        "id": "iGjPWQQ0Dasi"
      }
    },
    {
      "cell_type": "code",
      "source": [
        "letters = ['a', 'b', 'c', 'a', 'b', 'c']\n",
        "# Remove the letter a from the list.\n",
        "letters.remove('a')\n",
        "\n",
        "print(letters)"
      ],
      "metadata": {
        "colab": {
          "base_uri": "https://localhost:8080/"
        },
        "id": "ibSb8QgxDdPu",
        "outputId": "e33da59c-e58d-4c1d-e227-2b062de3c67e"
      },
      "execution_count": null,
      "outputs": [
        {
          "output_type": "stream",
          "name": "stdout",
          "text": [
            "['b', 'c', 'a', 'b', 'c']\n"
          ]
        }
      ]
    },
    {
      "cell_type": "markdown",
      "source": [
        "Popping items from list:\n",
        "\n",
        "The pop() function removes the last item from the list, and gives it to us so we can work with it. \n",
        "\n",
        "This is easier to show with an example:"
      ],
      "metadata": {
        "id": "m3m3TZkUC2dX"
      }
    },
    {
      "cell_type": "code",
      "source": [
        "beach = ['sun', 'sand', 'waves']\n",
        "last_item_beach = beach.pop()\n",
        "\n",
        "print(last_item_beach)\n",
        "print(beach)\n"
      ],
      "metadata": {
        "colab": {
          "base_uri": "https://localhost:8080/"
        },
        "id": "1geQR8BVC59I",
        "outputId": "4f355b2d-c1ff-4b13-fa8f-2e77541efb96"
      },
      "execution_count": null,
      "outputs": [
        {
          "output_type": "stream",
          "name": "stdout",
          "text": [
            "waves\n",
            "['sun', 'sand']\n"
          ]
        }
      ]
    },
    {
      "cell_type": "code",
      "source": [
        "beach = ['sun', 'sand', 'waves']\n",
        "last_item_beach = beach.pop(0)\n",
        "\n",
        "print(last_item_beach)\n",
        "print(beach)"
      ],
      "metadata": {
        "colab": {
          "base_uri": "https://localhost:8080/"
        },
        "id": "pUL8AvC2DUo0",
        "outputId": "cdfe2581-4c67-4cd4-846e-95814387631d"
      },
      "execution_count": null,
      "outputs": [
        {
          "output_type": "stream",
          "name": "stdout",
          "text": [
            "sun\n",
            "['sand', 'waves']\n"
          ]
        }
      ]
    },
    {
      "cell_type": "markdown",
      "source": [
        "min, max, sum in lists"
      ],
      "metadata": {
        "id": "N1P4poK2CoyE"
      }
    },
    {
      "cell_type": "code",
      "source": [
        "ages = [23, 16, 14, 28, 19, 11, 38]\n",
        "\n",
        "youngest = min(ages)\n",
        "oldest = max(ages)\n",
        "total_years = sum(ages)\n",
        "\n",
        "print(youngest)\n",
        "print(oldest)\n",
        "print(total_years)"
      ],
      "metadata": {
        "id": "8XCTVhHtCnrO",
        "colab": {
          "base_uri": "https://localhost:8080/"
        },
        "outputId": "62d320b3-f9db-4f79-a79a-f7660b47fb0e"
      },
      "execution_count": null,
      "outputs": [
        {
          "output_type": "stream",
          "name": "stdout",
          "text": [
            "11\n",
            "38\n",
            "149\n"
          ]
        }
      ]
    },
    {
      "cell_type": "markdown",
      "source": [
        "item in list?"
      ],
      "metadata": {
        "id": "X2z0OyYhFH13"
      }
    },
    {
      "cell_type": "code",
      "source": [
        "print(38 in ages)\n"
      ],
      "metadata": {
        "colab": {
          "base_uri": "https://localhost:8080/"
        },
        "id": "nepG3Z-CFJjT",
        "outputId": "a6b610e0-a437-4ae0-d907-380a12a225f6"
      },
      "execution_count": null,
      "outputs": [
        {
          "output_type": "stream",
          "name": "stdout",
          "text": [
            "True\n"
          ]
        }
      ]
    },
    {
      "cell_type": "markdown",
      "metadata": {
        "id": "ZXYj20JcboqG"
      },
      "source": [
        "### Dictionaries"
      ]
    },
    {
      "cell_type": "markdown",
      "metadata": {
        "id": "gMGEBPsVboqG"
      },
      "source": [
        "A dictionary has a key and a corresponding value"
      ]
    },
    {
      "cell_type": "markdown",
      "metadata": {
        "id": "PEXjsV05boqG"
      },
      "source": [
        "How to create a dictionary"
      ]
    },
    {
      "cell_type": "code",
      "execution_count": null,
      "metadata": {
        "id": "ryQG16feboqH",
        "colab": {
          "base_uri": "https://localhost:8080/"
        },
        "outputId": "41812930-ae9a-463d-8b54-2f310878d855"
      },
      "outputs": [
        {
          "output_type": "execute_result",
          "data": {
            "text/plain": [
              "['Pasta', 10, 'Pesto', 20, 'Chocolate', 5]"
            ]
          },
          "metadata": {},
          "execution_count": 216
        }
      ],
      "source": [
        "myshoppingitems = ['Pasta', 10, 'Pesto', 20, 'Chocolate', 5]\n",
        "myshoppingitems"
      ]
    },
    {
      "cell_type": "code",
      "execution_count": null,
      "metadata": {
        "id": "c7bRtUZtboqM",
        "colab": {
          "base_uri": "https://localhost:8080/"
        },
        "outputId": "8f23de5d-d8c3-4a12-b919-c6b89c6ac705"
      },
      "outputs": [
        {
          "output_type": "execute_result",
          "data": {
            "text/plain": [
              "{'Pasta': 10, 'Pesto': 20, 'Chocolate': 5}"
            ]
          },
          "metadata": {},
          "execution_count": 217
        }
      ],
      "source": [
        "myshoppingitems = {'Pasta': 10, 'Pesto': 20, 'Chocolate': 5}\n",
        "myshoppingitems"
      ]
    },
    {
      "cell_type": "code",
      "execution_count": null,
      "metadata": {
        "id": "imO3g0zSboqN",
        "colab": {
          "base_uri": "https://localhost:8080/"
        },
        "outputId": "b51595e5-30aa-4810-b0ce-47b6bee7b606"
      },
      "outputs": [
        {
          "output_type": "execute_result",
          "data": {
            "text/plain": [
              "{}"
            ]
          },
          "metadata": {},
          "execution_count": 218
        }
      ],
      "source": [
        "emptydictionary = dict()\n",
        "emptydictionary"
      ]
    },
    {
      "cell_type": "code",
      "source": [
        "d={}\n",
        "d"
      ],
      "metadata": {
        "colab": {
          "base_uri": "https://localhost:8080/"
        },
        "id": "plniZMHs1NSO",
        "outputId": "685d2282-7d11-4888-9f1d-cdc64ae34200"
      },
      "execution_count": null,
      "outputs": [
        {
          "output_type": "execute_result",
          "data": {
            "text/plain": [
              "{}"
            ]
          },
          "metadata": {},
          "execution_count": 219
        }
      ]
    },
    {
      "cell_type": "markdown",
      "metadata": {
        "id": "cMY68xXWboqN"
      },
      "source": [
        "Add first item to the dictionary, dictionary keys should always be unique"
      ]
    },
    {
      "cell_type": "code",
      "execution_count": null,
      "metadata": {
        "id": "HNiOsHofboqN",
        "colab": {
          "base_uri": "https://localhost:8080/"
        },
        "outputId": "8162b895-561d-4369-ab1d-87b3cb2912c5"
      },
      "outputs": [
        {
          "output_type": "stream",
          "name": "stdout",
          "text": [
            "{'Pasta': 10}\n"
          ]
        }
      ],
      "source": [
        "emptydictionary['Pasta'] = 10\n",
        "print(emptydictionary)"
      ]
    },
    {
      "cell_type": "code",
      "execution_count": null,
      "metadata": {
        "id": "txs1KEAxboqN",
        "colab": {
          "base_uri": "https://localhost:8080/"
        },
        "outputId": "f2b8c215-bebb-4d3a-908d-73d474cbb9dd"
      },
      "outputs": [
        {
          "output_type": "execute_result",
          "data": {
            "text/plain": [
              "{'Pasta': 10, 'Pesto': 20}"
            ]
          },
          "metadata": {},
          "execution_count": 221
        }
      ],
      "source": [
        "emptydictionary['Pesto'] = 20\n",
        "emptydictionary"
      ]
    },
    {
      "cell_type": "markdown",
      "metadata": {
        "id": "cSbr52f4boqO"
      },
      "source": [
        "Access key,item in a dictionary"
      ]
    },
    {
      "cell_type": "code",
      "execution_count": null,
      "metadata": {
        "id": "j1ursVDWboqO",
        "colab": {
          "base_uri": "https://localhost:8080/"
        },
        "outputId": "20a43115-cfd1-48eb-f1b7-f72d37d35509"
      },
      "outputs": [
        {
          "output_type": "execute_result",
          "data": {
            "text/plain": [
              "20"
            ]
          },
          "metadata": {},
          "execution_count": 222
        }
      ],
      "source": [
        "emptydictionary['Pesto']"
      ]
    },
    {
      "cell_type": "markdown",
      "metadata": {
        "id": "wZ5OTvExboqP"
      },
      "source": [
        "### Tuples\n",
        "\n",
        "- immutable sequence of Python objects - you cannot update or change the values of tuple elements\n",
        "- their advantage is that they have a fixed value"
      ]
    },
    {
      "cell_type": "code",
      "execution_count": null,
      "metadata": {
        "id": "DOHELH_qboqP",
        "colab": {
          "base_uri": "https://localhost:8080/"
        },
        "outputId": "d84ee122-7cda-4c6e-fc00-80dd9a323866"
      },
      "outputs": [
        {
          "output_type": "stream",
          "name": "stdout",
          "text": [
            "('noon', 'morning', 'afternoon', 'evening')\n"
          ]
        }
      ],
      "source": [
        "tuple1 = ('noon', 'morning', \"afternoon\", \"evening\")\n",
        "print(tuple1)"
      ]
    },
    {
      "cell_type": "markdown",
      "metadata": {
        "id": "XzH6PsSGboqQ"
      },
      "source": [
        "create tuple of one value, you always need a comma at the end"
      ]
    },
    {
      "cell_type": "code",
      "execution_count": null,
      "metadata": {
        "id": "SfZYx6AyboqQ",
        "colab": {
          "base_uri": "https://localhost:8080/"
        },
        "outputId": "43b4f5e8-1193-4702-ebcd-20d6eee0ff5d"
      },
      "outputs": [
        {
          "output_type": "execute_result",
          "data": {
            "text/plain": [
              "(1,)"
            ]
          },
          "metadata": {},
          "execution_count": 224
        }
      ],
      "source": [
        "tupele2 = (1,)\n",
        "tupele2"
      ]
    },
    {
      "cell_type": "markdown",
      "metadata": {
        "id": "_GB31N87boqQ"
      },
      "source": [
        "you can access values"
      ]
    },
    {
      "cell_type": "code",
      "execution_count": null,
      "metadata": {
        "id": "ocTX-s8JboqQ",
        "colab": {
          "base_uri": "https://localhost:8080/"
        },
        "outputId": "caa6721b-a43d-4e08-e064-d64b9413f671"
      },
      "outputs": [
        {
          "output_type": "stream",
          "name": "stdout",
          "text": [
            "evening\n"
          ]
        }
      ],
      "source": [
        "print(tuple1[3])"
      ]
    },
    {
      "cell_type": "markdown",
      "metadata": {
        "id": "LPHb7LhpboqS"
      },
      "source": [
        "you can not modify within tuples, but you can concate different tuples"
      ]
    },
    {
      "cell_type": "code",
      "execution_count": null,
      "metadata": {
        "id": "7A3-FynBboqT",
        "colab": {
          "base_uri": "https://localhost:8080/"
        },
        "outputId": "4d7d60b4-fc0b-4100-e785-114be5fbf40b"
      },
      "outputs": [
        {
          "output_type": "execute_result",
          "data": {
            "text/plain": [
              "('noon', 'morning', 'afternoon', 'evening', '12', '10', '16', '18')"
            ]
          },
          "metadata": {},
          "execution_count": 226
        }
      ],
      "source": [
        "tuple1 = ('noon', 'morning', \"afternoon\", \"evening\")\n",
        "tuple2 = ('12', '10', \"16\", \"18\")\n",
        "tuplemix=tuple1+tuple2\n",
        "tuplemix"
      ]
    },
    {
      "cell_type": "markdown",
      "metadata": {
        "id": "32aRJz6mboqT"
      },
      "source": [
        "you can not modify within tuples, but you can repeat tuples in a new tuple"
      ]
    },
    {
      "cell_type": "code",
      "execution_count": null,
      "metadata": {
        "id": "D-73rY9wboqV",
        "colab": {
          "base_uri": "https://localhost:8080/"
        },
        "outputId": "87c37790-a726-4cd4-983c-a8845aacc697"
      },
      "outputs": [
        {
          "output_type": "execute_result",
          "data": {
            "text/plain": [
              "('12', '10', '16', '18', '12', '10', '16', '18')"
            ]
          },
          "metadata": {},
          "execution_count": 227
        }
      ],
      "source": [
        "tuplemultiply=tuple2*2\n",
        "tuplemultiply"
      ]
    },
    {
      "cell_type": "markdown",
      "source": [
        "If you try to add something to a tuple, you will get an error:\n",
        "\n"
      ],
      "metadata": {
        "id": "hWCpTnKQB_EU"
      }
    },
    {
      "cell_type": "code",
      "source": [
        "colors = ('red', 'green', 'blue')\n",
        "colors.append('purple')"
      ],
      "metadata": {
        "id": "NLLvi384B8lp",
        "colab": {
          "base_uri": "https://localhost:8080/",
          "height": 258
        },
        "outputId": "f638b4c4-136d-481c-d172-a1d3c45da141"
      },
      "execution_count": null,
      "outputs": [
        {
          "output_type": "error",
          "ename": "AttributeError",
          "evalue": "ignored",
          "traceback": [
            "\u001b[0;31m---------------------------------------------------------------------------\u001b[0m",
            "\u001b[0;31mAttributeError\u001b[0m                            Traceback (most recent call last)",
            "\u001b[0;32m<ipython-input-228-83aeaf8e9a14>\u001b[0m in \u001b[0;36m<cell line: 2>\u001b[0;34m()\u001b[0m\n\u001b[1;32m      1\u001b[0m \u001b[0mcolors\u001b[0m \u001b[0;34m=\u001b[0m \u001b[0;34m(\u001b[0m\u001b[0;34m'red'\u001b[0m\u001b[0;34m,\u001b[0m \u001b[0;34m'green'\u001b[0m\u001b[0;34m,\u001b[0m \u001b[0;34m'blue'\u001b[0m\u001b[0;34m)\u001b[0m\u001b[0;34m\u001b[0m\u001b[0;34m\u001b[0m\u001b[0m\n\u001b[0;32m----> 2\u001b[0;31m \u001b[0mcolors\u001b[0m\u001b[0;34m.\u001b[0m\u001b[0mappend\u001b[0m\u001b[0;34m(\u001b[0m\u001b[0;34m'purple'\u001b[0m\u001b[0;34m)\u001b[0m\u001b[0;34m\u001b[0m\u001b[0;34m\u001b[0m\u001b[0m\n\u001b[0m",
            "\u001b[0;31mAttributeError\u001b[0m: 'tuple' object has no attribute 'append'"
          ]
        }
      ]
    },
    {
      "cell_type": "markdown",
      "source": [
        "The same kind of thing happens when you try to remove something from a tuple, or modify one of its elements. Once you define a tuple, you can be confident that its values will not change.\n",
        "\n"
      ],
      "metadata": {
        "id": "bFmLfLmqB_jl"
      }
    },
    {
      "cell_type": "markdown",
      "metadata": {
        "id": "API-Np2RboqY"
      },
      "source": [
        "you can check membership"
      ]
    },
    {
      "cell_type": "code",
      "execution_count": null,
      "metadata": {
        "id": "7GY1HZXtboqY"
      },
      "outputs": [],
      "source": [
        "3 in tuple2"
      ]
    },
    {
      "cell_type": "markdown",
      "source": [
        "tuples are immutable,  the value in the tuple will never change"
      ],
      "metadata": {
        "id": "04cwzlwQrlvB"
      }
    },
    {
      "cell_type": "code",
      "source": [
        "tuplemultiply[8] = 22"
      ],
      "metadata": {
        "id": "ql3Qx7LerWlW"
      },
      "execution_count": null,
      "outputs": []
    },
    {
      "cell_type": "markdown",
      "metadata": {
        "id": "eFbazrdkboqZ"
      },
      "source": [
        "### Sets\n",
        "\n",
        "What is a set? It is an unordered collection of items. You can not be sure in which order the items will appear.\n",
        "\n",
        "Elements of the set:\n",
        "1. must be unique - doesnt allow for duplicate elements\n",
        "2. elemenets can not be changed (you can not access items by refering to an index, as done in lists)\n",
        "\n",
        "The set as a whole is mutable, we can add and remove items from it\n",
        "\n",
        "Usually sets are used to for mathematical operations like, union and intersection"
      ]
    },
    {
      "cell_type": "code",
      "execution_count": null,
      "metadata": {
        "id": "lPHk2QJTboqZ",
        "colab": {
          "base_uri": "https://localhost:8080/"
        },
        "outputId": "ec912808-2982-4d35-8a5f-d521b24883a9"
      },
      "outputs": [
        {
          "output_type": "stream",
          "name": "stdout",
          "text": [
            "{2, 3, 100, 20, 8, 13}\n",
            "{2, 3, 'orange', 'apple'}\n"
          ]
        }
      ],
      "source": [
        "#creation of sets\n",
        "\n",
        "set1 = {8, 2, 3, 20, 13, 100}\n",
        "set2 = {\"apple\",2,3, \"orange\"}\n",
        "print(set1)\n",
        "print(set2)"
      ]
    },
    {
      "cell_type": "code",
      "execution_count": null,
      "metadata": {
        "id": "xyyzZjLpboqZ",
        "colab": {
          "base_uri": "https://localhost:8080/"
        },
        "outputId": "d32b0bff-43ba-4d1b-8a0e-c916249f48ec"
      },
      "outputs": [
        {
          "output_type": "stream",
          "name": "stdout",
          "text": [
            "{2, 3, 100, 20, 8, 13}\n"
          ]
        }
      ],
      "source": [
        "# no duplication allowed\n",
        "\n",
        "set3 = {8, 2, 3, 20, 13, 100, 20, 3}\n",
        "print(set3)\n"
      ]
    },
    {
      "cell_type": "code",
      "execution_count": null,
      "metadata": {
        "id": "XiiK-umZboqa",
        "colab": {
          "base_uri": "https://localhost:8080/"
        },
        "outputId": "d27c60c0-3362-48e8-8747-de6cec55a94a"
      },
      "outputs": [
        {
          "output_type": "stream",
          "name": "stdout",
          "text": [
            "{8, 33, 20, 400}\n",
            "<class 'set'>\n"
          ]
        }
      ],
      "source": [
        "# transform a list to a set\n",
        "\n",
        "newlist=[8,20,33,400]\n",
        "newset = set(newlist)\n",
        "print(newset)\n",
        "print(type(newset))"
      ]
    },
    {
      "cell_type": "code",
      "execution_count": null,
      "metadata": {
        "id": "s1_ycAt3boqa",
        "colab": {
          "base_uri": "https://localhost:8080/"
        },
        "outputId": "84d721a5-0979-46ae-8d30-50f0280e2c63"
      },
      "outputs": [
        {
          "output_type": "stream",
          "name": "stdout",
          "text": [
            "{33, 2, 8, 400, 20}\n"
          ]
        }
      ],
      "source": [
        "#mutability of set\n",
        "\n",
        "#add an item\n",
        "newset.add(2)\n",
        "print(newset)"
      ]
    },
    {
      "cell_type": "code",
      "execution_count": null,
      "metadata": {
        "id": "T7dKqLF3boqb",
        "outputId": "457fee7d-8de8-4a9f-8d34-ee13300e0762",
        "colab": {
          "base_uri": "https://localhost:8080/"
        }
      },
      "outputs": [
        {
          "output_type": "stream",
          "name": "stdout",
          "text": [
            "{33, 2, 100, 5, 6, 8, 400, 20}\n"
          ]
        }
      ],
      "source": [
        "#to add more than one item you use update\n",
        "newset.update([100, 5, 6])\n",
        "print(newset)"
      ]
    },
    {
      "cell_type": "code",
      "execution_count": null,
      "metadata": {
        "id": "MR63XrFAboqc",
        "outputId": "9ca3e6cc-2c45-4a46-fd73-63cc6811bca3",
        "colab": {
          "base_uri": "https://localhost:8080/"
        }
      },
      "outputs": [
        {
          "output_type": "stream",
          "name": "stdout",
          "text": [
            "{33, 2, 100, 5, 6, 8, 400, 20}\n"
          ]
        }
      ],
      "source": [
        "# discard an item (similar remove - however remove will show an error if the item is not in the set)\n",
        "newset.discard(3)\n",
        "print(newset)"
      ]
    }
  ],
  "metadata": {
    "kernelspec": {
      "display_name": "Python 3",
      "language": "python",
      "name": "python3"
    },
    "language_info": {
      "codemirror_mode": {
        "name": "ipython",
        "version": 3
      },
      "file_extension": ".py",
      "mimetype": "text/x-python",
      "name": "python",
      "nbconvert_exporter": "python",
      "pygments_lexer": "ipython3",
      "version": "3.8.5"
    },
    "colab": {
      "provenance": [],
      "collapsed_sections": [
        "aolyrB1SHTAO",
        "rTzYMYslqrbv",
        "NA5ahqc7HTAP",
        "DWj_K5852UEV",
        "3-bIGrB4bop-",
        "2gDFH22lbop_"
      ],
      "include_colab_link": true
    }
  },
  "nbformat": 4,
  "nbformat_minor": 0
}